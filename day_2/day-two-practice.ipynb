{
 "cells": [
  {
   "cell_type": "code",
   "id": "initial_id",
   "metadata": {
    "collapsed": true,
    "ExecuteTime": {
     "end_time": "2024-07-30T08:27:47.022327Z",
     "start_time": "2024-07-30T08:27:46.325420Z"
    }
   },
   "source": [
    "%%capture --no-stderr\n",
    "%pip install langchain langchain-openai langchain-openai langchain_chroma langchain-text-splitters langchain_community langchainhub"
   ],
   "outputs": [],
   "execution_count": 73
  },
  {
   "metadata": {
    "ExecuteTime": {
     "end_time": "2024-07-30T08:27:47.785126Z",
     "start_time": "2024-07-30T08:27:47.769329Z"
    }
   },
   "cell_type": "code",
   "source": [
    "from langchain_openai import ChatOpenAI\n",
    "\n",
    "llm = ChatOpenAI(model=\"gpt-4o-mini\")"
   ],
   "id": "29c9a36263febd85",
   "outputs": [],
   "execution_count": 74
  },
  {
   "metadata": {
    "ExecuteTime": {
     "end_time": "2024-07-30T08:27:49.574986Z",
     "start_time": "2024-07-30T08:27:49.473266Z"
    }
   },
   "cell_type": "code",
   "source": [
    "import bs4\n",
    "from langchain_chroma import Chroma\n",
    "from langchain_community.document_loaders import WebBaseLoader\n",
    "from langchain_core.runnables import RunnablePassthrough\n",
    "from langchain_openai import OpenAIEmbeddings\n",
    "from langchain_text_splitters import RecursiveCharacterTextSplitter\n",
    "\n",
    "urls = [\n",
    "    \"https://lilianweng.github.io/posts/2023-06-23-agent/\",\n",
    "    \"https://lilianweng.github.io/posts/2023-03-15-prompt-engineering/\",\n",
    "    \"https://lilianweng.github.io/posts/2023-10-25-adv-attack-llm/\",\n",
    "]\n",
    "\n",
    "loader = WebBaseLoader(\n",
    "    web_paths=urls,\n",
    "    bs_kwargs=dict(\n",
    "        parse_only=bs4.SoupStrainer(\n",
    "            class_=(\"post-content\", \"post-title\", \"post-header\")\n",
    "        )\n",
    "    ),\n",
    ")\n",
    "docs = loader.load()"
   ],
   "id": "7809da3f993330a6",
   "outputs": [],
   "execution_count": 75
  },
  {
   "metadata": {
    "ExecuteTime": {
     "end_time": "2024-07-30T08:27:53.558735Z",
     "start_time": "2024-07-30T08:27:51.438098Z"
    }
   },
   "cell_type": "code",
   "source": [
    "text_splitter = RecursiveCharacterTextSplitter(chunk_size=1000, chunk_overlap=200)\n",
    "splits = text_splitter.split_documents(docs)\n",
    "vectorstore = Chroma.from_documents(documents=splits, embedding=OpenAIEmbeddings(model=\"text-embedding-3-small\"))"
   ],
   "id": "e7c0fabfb2917bea",
   "outputs": [],
   "execution_count": 76
  },
  {
   "metadata": {
    "ExecuteTime": {
     "end_time": "2024-07-30T08:27:54.757091Z",
     "start_time": "2024-07-30T08:27:54.368505Z"
    }
   },
   "cell_type": "code",
   "source": [
    "retriever = vectorstore.as_retriever()\n",
    "retrieved_docs = retriever.invoke(\"agent memory\")"
   ],
   "id": "dbba102bf4a106a5",
   "outputs": [],
   "execution_count": 77
  },
  {
   "metadata": {
    "ExecuteTime": {
     "end_time": "2024-07-30T08:27:55.815283Z",
     "start_time": "2024-07-30T08:27:55.813256Z"
    }
   },
   "cell_type": "code",
   "source": "query = \"agent_memory\"",
   "id": "3b6b1d5eb97e7f07",
   "outputs": [],
   "execution_count": 78
  },
  {
   "metadata": {
    "ExecuteTime": {
     "end_time": "2024-07-30T08:27:56.797394Z",
     "start_time": "2024-07-30T08:27:56.792719Z"
    }
   },
   "cell_type": "code",
   "source": [
    "from langchain_core.output_parsers import JsonOutputParser\n",
    "from langchain_core.prompts import PromptTemplate\n",
    "\n",
    "def format_docs(input_docs):\n",
    "    return \"\\n\\n\".join(doc.page_content for doc in input_docs)\n",
    "\n",
    "def check_relevance(user_query):\n",
    "    relevance_prompt = PromptTemplate(\n",
    "        template=\"사용자의 질문에 답변해줘. Context 를 추가로 제공할텐데 질문과 Context 가 연관이 있으면 yes, 연관이 없으면 no 라고 답변해줘. 응답 포맷은 아래와 같아.\\n{format_instructions}\\nQuestion: {question} \\nContext: {context} \\nAnswer:\",\n",
    "        input_variables=[\"question\", \"context\"],\n",
    "        partial_variables={\"format_instructions\": \"{\\\"relevance\\\": \\\"yes\\\"} or {\\\"relevance\\\": \\\"no\\\"}\"},\n",
    "    )\n",
    "    chain = ({\"context\": retriever | format_docs, \"question\": RunnablePassthrough()}\n",
    "            | relevance_prompt\n",
    "            | llm\n",
    "            | JsonOutputParser()\n",
    "    )\n",
    "    return chain.invoke(user_query)"
   ],
   "id": "82e6bf375de57df5",
   "outputs": [],
   "execution_count": 79
  },
  {
   "metadata": {
    "ExecuteTime": {
     "end_time": "2024-07-30T08:27:58.698169Z",
     "start_time": "2024-07-30T08:27:58.694711Z"
    }
   },
   "cell_type": "code",
   "source": [
    "from langchain import hub\n",
    "from langchain_core.output_parsers import StrOutputParser\n",
    "\n",
    "def rag_result(user_query):\n",
    "    rag_prompt = hub.pull(\"rlm/rag-prompt\")\n",
    "    rag_chain = ({\"context\": retriever | format_docs, \"question\": RunnablePassthrough()}\n",
    "         | rag_prompt\n",
    "         | llm\n",
    "         | StrOutputParser()\n",
    "         )\n",
    "    return rag_chain.invoke(user_query)"
   ],
   "id": "c3787732a23dadda",
   "outputs": [],
   "execution_count": 80
  },
  {
   "metadata": {
    "ExecuteTime": {
     "end_time": "2024-07-30T08:27:59.956599Z",
     "start_time": "2024-07-30T08:27:59.951933Z"
    }
   },
   "cell_type": "code",
   "source": [
    "def check_hallucination(llm_result):\n",
    "    hallucination_prompt = PromptTemplate(\n",
    "        template=\"내가 작성하는 내용에 거짓이 있는지 확인해줘. 거짓이 있다면 yes, 거짓이 없다면 no 라고 답변해줘 응답 포맷은 아래와 같아.\\n{format_instructions}\\nQuestion: {question} \\nAnswer:\",\n",
    "        input_variables=[\"question\"],\n",
    "        partial_variables={\"format_instructions\": \"{\\\"hallucination\\\": \\\"yes\\\"} or {\\\"hallucination\\\": \\\"no\\\"}\"},\n",
    "    )\n",
    "    hallucination_chain = (\n",
    "            {\"question\": RunnablePassthrough()}\n",
    "            | hallucination_prompt\n",
    "            | llm\n",
    "            | JsonOutputParser()\n",
    "    )\n",
    "    return hallucination_chain.invoke(llm_result)"
   ],
   "id": "375630b90bd8bf5",
   "outputs": [],
   "execution_count": 81
  },
  {
   "metadata": {
    "ExecuteTime": {
     "end_time": "2024-07-30T08:29:45.887078Z",
     "start_time": "2024-07-30T08:29:40.438919Z"
    }
   },
   "cell_type": "code",
   "source": [
    "for i in [0, 1, 2]:\n",
    "    relevance = check_relevance(query)\n",
    "    if relevance['relevance'] == 'yes':\n",
    "        print(relevance)\n",
    "        x = rag_result(query)\n",
    "        print(x)\n",
    "        print(check_hallucination(x))\n",
    "        break\n",
    "    else:\n",
    "        print(relevance)\n",
    "        break"
   ],
   "id": "78ec6802f8b511b2",
   "outputs": [
    {
     "name": "stdout",
     "output_type": "stream",
     "text": [
      "{'relevance': 'yes'}\n",
      "Agent memory refers to the capability of autonomous agents, such as those powered by large language models, to retain and utilize past interactions to inform future behavior. This includes aspects like relationship memory, where agents can continue conversations or coordinate events based on prior exchanges. Such memory functionalities enhance the social dynamics and responsiveness of the agents in simulations.\n",
      "{'hallucination': 'no'}\n"
     ]
    }
   ],
   "execution_count": 84
  },
  {
   "metadata": {},
   "cell_type": "code",
   "outputs": [],
   "execution_count": null,
   "source": "",
   "id": "8fbb43da9a085a0c"
  }
 ],
 "metadata": {
  "kernelspec": {
   "display_name": "Python 3",
   "language": "python",
   "name": "python3"
  },
  "language_info": {
   "codemirror_mode": {
    "name": "ipython",
    "version": 2
   },
   "file_extension": ".py",
   "mimetype": "text/x-python",
   "name": "python",
   "nbconvert_exporter": "python",
   "pygments_lexer": "ipython2",
   "version": "2.7.6"
  }
 },
 "nbformat": 4,
 "nbformat_minor": 5
}
