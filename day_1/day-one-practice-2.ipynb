{
 "cells": [
  {
   "metadata": {
    "ExecuteTime": {
     "end_time": "2024-07-29T12:54:51.057677Z",
     "start_time": "2024-07-29T12:54:50.555509Z"
    }
   },
   "cell_type": "code",
   "source": "!pip install ollama",
   "id": "21ea435287959f8",
   "outputs": [
    {
     "name": "stdout",
     "output_type": "stream",
     "text": [
      "Requirement already satisfied: ollama in /Users/ryunny/Development/workspace/r.yunny/openai-env/lib/python3.12/site-packages (0.3.0)\r\n",
      "Requirement already satisfied: httpx<0.28.0,>=0.27.0 in /Users/ryunny/Development/workspace/r.yunny/openai-env/lib/python3.12/site-packages (from ollama) (0.27.0)\r\n",
      "Requirement already satisfied: anyio in /Users/ryunny/Development/workspace/r.yunny/openai-env/lib/python3.12/site-packages (from httpx<0.28.0,>=0.27.0->ollama) (4.4.0)\r\n",
      "Requirement already satisfied: certifi in /Users/ryunny/Development/workspace/r.yunny/openai-env/lib/python3.12/site-packages (from httpx<0.28.0,>=0.27.0->ollama) (2024.7.4)\r\n",
      "Requirement already satisfied: httpcore==1.* in /Users/ryunny/Development/workspace/r.yunny/openai-env/lib/python3.12/site-packages (from httpx<0.28.0,>=0.27.0->ollama) (1.0.5)\r\n",
      "Requirement already satisfied: idna in /Users/ryunny/Development/workspace/r.yunny/openai-env/lib/python3.12/site-packages (from httpx<0.28.0,>=0.27.0->ollama) (3.7)\r\n",
      "Requirement already satisfied: sniffio in /Users/ryunny/Development/workspace/r.yunny/openai-env/lib/python3.12/site-packages (from httpx<0.28.0,>=0.27.0->ollama) (1.3.1)\r\n",
      "Requirement already satisfied: h11<0.15,>=0.13 in /Users/ryunny/Development/workspace/r.yunny/openai-env/lib/python3.12/site-packages (from httpcore==1.*->httpx<0.28.0,>=0.27.0->ollama) (0.14.0)\r\n"
     ]
    }
   ],
   "execution_count": 1
  },
  {
   "metadata": {
    "ExecuteTime": {
     "end_time": "2024-07-29T12:54:53.511863Z",
     "start_time": "2024-07-29T12:54:53.440367Z"
    }
   },
   "cell_type": "code",
   "source": "import ollama",
   "id": "49f8cef45bf3aeb2",
   "outputs": [],
   "execution_count": 2
  },
  {
   "metadata": {
    "ExecuteTime": {
     "end_time": "2024-07-29T12:55:03.116906Z",
     "start_time": "2024-07-29T12:54:54.550397Z"
    }
   },
   "cell_type": "code",
   "source": [
    "response_llama3_1 = ollama.chat(model='llama3.1', messages=[\n",
    "    {\n",
    "        'role': 'user',\n",
    "        'content': 'Why is the sky blue?',\n",
    "    },\n",
    "])\n",
    "print(response_llama3_1['message']['content'])"
   ],
   "id": "e1858782ede0dedc",
   "outputs": [
    {
     "name": "stdout",
     "output_type": "stream",
     "text": [
      "The sky appears blue to us during the day because of a phenomenon called scattering. Scattering occurs when sunlight enters Earth's atmosphere and encounters tiny molecules of gases like nitrogen (N2) and oxygen (O2). These molecules are much smaller than the wavelength of light, so they scatter the light in all directions.\n",
      "\n",
      "Here's what happens:\n",
      "\n",
      "1. **Sunlight enters the atmosphere**: When sunlight enters our atmosphere, it contains all the colors of the visible spectrum, including red, orange, yellow, green, blue, indigo, and violet.\n",
      "2. **Scattering occurs**: The tiny molecules in the atmosphere scatter the shorter (blue) wavelengths more than the longer (red) wavelengths. This is because the smaller molecules are able to deflect the shorter wavelengths more efficiently.\n",
      "3. **Blue light reaches our eyes**: As a result of this scattering, the blue light is distributed throughout the atmosphere and reaches our eyes from all directions. Our brains then perceive this scattered blue light as the color of the sky.\n",
      "\n",
      "Why doesn't the sky appear violet instead? Well, that's because violet has an even shorter wavelength than blue, and it gets scattered away more quickly by the atmospheric molecules. Additionally, the human eye is less sensitive to violet light, so we're less likely to perceive it as a prominent color in the sky.\n",
      "\n",
      "At sunrise and sunset, the sky can take on hues of red, orange, and pink due to a different set of conditions. In these cases, the sun's rays have to travel through more of the atmosphere to reach our eyes, which scatters the shorter wavelengths (like blue and violet) even more. The longer wavelengths (red and yellow) are able to pass through the atmosphere with less scattering, giving us those beautiful sunset colors!\n",
      "\n",
      "I hope that answers your question about why the sky is blue!\n"
     ]
    }
   ],
   "execution_count": 3
  },
  {
   "metadata": {
    "ExecuteTime": {
     "end_time": "2024-07-29T12:55:12.283217Z",
     "start_time": "2024-07-29T12:55:05.018483Z"
    }
   },
   "cell_type": "code",
   "source": [
    "response_phi3 = ollama.chat(model='phi3', messages=[\n",
    "    {\n",
    "        'role': 'user',\n",
    "        'content': 'Why is the sky blue?',\n",
    "    },\n",
    "])\n",
    "print(response_phi3['message']['content'])"
   ],
   "id": "8fbbc411336271f4",
   "outputs": [
    {
     "name": "stdout",
     "output_type": "stream",
     "text": [
      " The color of the sky appears to be blue due to a phenomenon called Rayleigh scattering. When sunlight enters Earth' end atmosphere, it interacts with molecules and small particles in the air. Sunlight consists of different colors that have various wavelengths; shorter ones like violet and blue are scattered much more than longer red light because they travel as smaller waves compared to those associated with other visible spectrum colors (which is why even though we see a lot of scattering, not all sunlit parts appear blue). \n",
      "\n",
      "\n",
      "However, the human eye is less sensitive to violet frequencies; hence our sky appears blue. Furthermore, some amount of Violet light gets converted into green and then red near horizon due to atmospheric conditions which also contributes in making us see a bluish-purple color during sunrise and sunset (this effect creates the beautiful 'golden hour' photography). Also, on very hazy or polluted days, where particulate matter is more than usual; they tend to scatter all colors almost equally which results into whitish skies.\n"
     ]
    }
   ],
   "execution_count": 4
  },
  {
   "metadata": {
    "ExecuteTime": {
     "end_time": "2024-07-29T12:55:13.565826Z",
     "start_time": "2024-07-29T12:55:13.561989Z"
    }
   },
   "cell_type": "code",
   "source": [
    "prompt_from_r = open('./prompts/prompt-by-r-generated.txt').read()\n",
    "print(prompt_from_r)"
   ],
   "id": "1505501ecf7309f1",
   "outputs": [
    {
     "name": "stdout",
     "output_type": "stream",
     "text": [
      "당신은 코드리뷰의 긴급도를 파악하여 알림을 주는 봇입니다.\n",
      "코드리뷰 제목을 보고 파악한 긴급도에 맞게 아래 4가지 중 한가지로 긴급도를 제공하세요.\n",
      "1. 지금당장\n",
      "2. 오늘까지\n",
      "3. 내일까지\n",
      "4. 이번주까지\n",
      "\n",
      "긴급도는 \"<타입>지금당장</타입>\" 과 같이 제공합니다.\n",
      "\n",
      "코드리뷰 제목 : {{CODE_REVIEW_REQUEST}}\n",
      "\n"
     ]
    }
   ],
   "execution_count": 5
  },
  {
   "metadata": {
    "ExecuteTime": {
     "end_time": "2024-07-29T12:55:15.120559Z",
     "start_time": "2024-07-29T12:55:15.116119Z"
    }
   },
   "cell_type": "code",
   "source": [
    "prompt_from_claude = open('./prompts/prompt-by-claude-generated.txt').read()\n",
    "print(prompt_from_claude)"
   ],
   "id": "1815ab9fde5e18fc",
   "outputs": [
    {
     "name": "stdout",
     "output_type": "stream",
     "text": [
      "You are an AI assistant tasked with classifying code review requests based on their urgency. Your goal is to help prioritize these requests during work hours to ensure efficient handling of code reviews.\n",
      "\n",
      "You will be given a code review request in the following format:\n",
      "\n",
      "<code_review_request>\n",
      "{{CODE_REVIEW_REQUEST}}\n",
      "</code_review_request>\n",
      "\n",
      "Analyze the request and classify it into one of the following urgency categories:\n",
      "1. 지금당장 (Right now): Extremely urgent, requires immediate attention\n",
      "2. 오늘까지 (By today): High priority, should be completed by the end of the work day\n",
      "3. 내일까지 (By tomorrow): Medium priority, should be completed by the end of the next work day\n",
      "4. 이번주까지 (By this week): Low priority, should be completed by the end of the current work week\n",
      "\n",
      "Consider factors such as:\n",
      "- Explicit deadlines mentioned in the request\n",
      "- The importance of the changes (e.g., bug fixes, critical features)\n",
      "- The scope of the changes (e.g., small tweaks vs. large refactoring)\n",
      "- Any mentioned dependencies or blockers\n",
      "\n",
      "First, provide your reasoning for the classification in <reasoning> tags. Explain why you chose the specific urgency category based on the information in the request.\n",
      "\n",
      "Then, provide your final classification in the following format:\n",
      "<classification>urgency_category</classification>\n",
      "\n",
      "For example:\n",
      "<classification>오늘까지</classification>\n",
      "\n",
      "Remember to base your classification solely on the information provided in the code review request. Do not make assumptions about information not present in the request.\n",
      "\n"
     ]
    }
   ],
   "execution_count": 6
  },
  {
   "metadata": {
    "ExecuteTime": {
     "end_time": "2024-07-29T12:57:09.164093Z",
     "start_time": "2024-07-29T12:57:07.392219Z"
    }
   },
   "cell_type": "code",
   "source": [
    "response_r = ollama.chat(model='llama3.1', messages=[\n",
    "    {\n",
    "        'role': 'user',\n",
    "        'content': prompt_from_r.replace(\"{{CODE_REVIEW_REQUEST}}\", \"server: add OLLAMA_RUNNERS_DIR to help description\"),\n",
    "    },\n",
    "])\n",
    "print(response_r['message']['content'])"
   ],
   "id": "f386e4faf6d34823",
   "outputs": [
    {
     "name": "stdout",
     "output_type": "stream",
     "text": [
      "<1>지금당장</1>\n",
      "\n",
      "제목에 \"add\"라는 단어와 \"help description\"이라는 구문이 사용되었고, 특정한 변경 사항을 도와주는 메시지가 포함되어 있으니, 즉각적인 처리가 필요하다는 의미입니다.\n"
     ]
    }
   ],
   "execution_count": 9
  },
  {
   "metadata": {
    "ExecuteTime": {
     "end_time": "2024-07-29T12:57:24.452049Z",
     "start_time": "2024-07-29T12:57:20.807398Z"
    }
   },
   "cell_type": "code",
   "source": [
    "response_claude = ollama.chat(model='llama3.1', messages=[\n",
    "    {\n",
    "        'role': 'user',\n",
    "        'content': prompt_from_claude.replace(\"{{CODE_REVIEW_REQUEST}}\", \"server: add OLLAMA_RUNNERS_DIR to help description\"),\n",
    "    },\n",
    "])\n",
    "print(response_claude['message']['content'])"
   ],
   "id": "153b12fa77f94015",
   "outputs": [
    {
     "name": "stdout",
     "output_type": "stream",
     "text": [
      "<code_review_request>\n",
      "server: add OLLAMA_RUNNERS_DIR to help description\n",
      "</code_review_request>\n",
      "\n",
      "<reasoning> There is no explicit deadline mentioned in the request, and it does not seem to be related to bug fixes or critical features. The change appears to be small (adding a directory to the help description) and does not mention any dependencies or blockers. Based on this information, I would classify the urgency of the code review request as \" 이번주까지\" (By this week), as it is likely not time-sensitive and can be completed within the current work week.</reasoning>\n",
      "\n",
      "<classification>이번주까지</classification>\n"
     ]
    }
   ],
   "execution_count": 10
  }
 ],
 "metadata": {
  "kernelspec": {
   "display_name": "Python 3",
   "language": "python",
   "name": "python3"
  },
  "language_info": {
   "codemirror_mode": {
    "name": "ipython",
    "version": 2
   },
   "file_extension": ".py",
   "mimetype": "text/x-python",
   "name": "python",
   "nbconvert_exporter": "python",
   "pygments_lexer": "ipython2",
   "version": "2.7.6"
  }
 },
 "nbformat": 4,
 "nbformat_minor": 5
}
