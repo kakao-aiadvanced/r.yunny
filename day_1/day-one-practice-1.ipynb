{
 "cells": [
  {
   "metadata": {
    "ExecuteTime": {
     "end_time": "2024-07-29T12:37:04.526489Z",
     "start_time": "2024-07-29T12:37:03.123081Z"
    }
   },
   "cell_type": "code",
   "source": [
    "!pip install datasets\n",
    "!pip install openai\n",
    "!pip install llmlingua"
   ],
   "id": "21ea435287959f8",
   "outputs": [
    {
     "name": "stderr",
     "output_type": "stream",
     "text": [
      "huggingface/tokenizers: The current process just got forked, after parallelism has already been used. Disabling parallelism to avoid deadlocks...\n",
      "To disable this warning, you can either:\n",
      "\t- Avoid using `tokenizers` before the fork if possible\n",
      "\t- Explicitly set the environment variable TOKENIZERS_PARALLELISM=(true | false)\n"
     ]
    },
    {
     "name": "stdout",
     "output_type": "stream",
     "text": [
      "Requirement already satisfied: datasets in ./openai-env/lib/python3.12/site-packages (2.20.0)\r\n",
      "Requirement already satisfied: filelock in ./openai-env/lib/python3.12/site-packages (from datasets) (3.15.4)\r\n",
      "Requirement already satisfied: numpy>=1.17 in ./openai-env/lib/python3.12/site-packages (from datasets) (1.26.4)\r\n",
      "Requirement already satisfied: pyarrow>=15.0.0 in ./openai-env/lib/python3.12/site-packages (from datasets) (17.0.0)\r\n",
      "Requirement already satisfied: pyarrow-hotfix in ./openai-env/lib/python3.12/site-packages (from datasets) (0.6)\r\n",
      "Requirement already satisfied: dill<0.3.9,>=0.3.0 in ./openai-env/lib/python3.12/site-packages (from datasets) (0.3.8)\r\n",
      "Requirement already satisfied: pandas in ./openai-env/lib/python3.12/site-packages (from datasets) (2.2.2)\r\n",
      "Requirement already satisfied: requests>=2.32.2 in ./openai-env/lib/python3.12/site-packages (from datasets) (2.32.3)\r\n",
      "Requirement already satisfied: tqdm>=4.66.3 in ./openai-env/lib/python3.12/site-packages (from datasets) (4.66.4)\r\n",
      "Requirement already satisfied: xxhash in ./openai-env/lib/python3.12/site-packages (from datasets) (3.4.1)\r\n",
      "Requirement already satisfied: multiprocess in ./openai-env/lib/python3.12/site-packages (from datasets) (0.70.16)\r\n",
      "Requirement already satisfied: fsspec<=2024.5.0,>=2023.1.0 in ./openai-env/lib/python3.12/site-packages (from fsspec[http]<=2024.5.0,>=2023.1.0->datasets) (2024.5.0)\r\n",
      "Requirement already satisfied: aiohttp in ./openai-env/lib/python3.12/site-packages (from datasets) (3.9.5)\r\n",
      "Requirement already satisfied: huggingface-hub>=0.21.2 in ./openai-env/lib/python3.12/site-packages (from datasets) (0.24.2)\r\n",
      "Requirement already satisfied: packaging in ./openai-env/lib/python3.12/site-packages (from datasets) (24.1)\r\n",
      "Requirement already satisfied: pyyaml>=5.1 in ./openai-env/lib/python3.12/site-packages (from datasets) (6.0.1)\r\n",
      "Requirement already satisfied: aiosignal>=1.1.2 in ./openai-env/lib/python3.12/site-packages (from aiohttp->datasets) (1.3.1)\r\n",
      "Requirement already satisfied: attrs>=17.3.0 in ./openai-env/lib/python3.12/site-packages (from aiohttp->datasets) (23.2.0)\r\n",
      "Requirement already satisfied: frozenlist>=1.1.1 in ./openai-env/lib/python3.12/site-packages (from aiohttp->datasets) (1.4.1)\r\n",
      "Requirement already satisfied: multidict<7.0,>=4.5 in ./openai-env/lib/python3.12/site-packages (from aiohttp->datasets) (6.0.5)\r\n",
      "Requirement already satisfied: yarl<2.0,>=1.0 in ./openai-env/lib/python3.12/site-packages (from aiohttp->datasets) (1.9.4)\r\n",
      "Requirement already satisfied: typing-extensions>=3.7.4.3 in ./openai-env/lib/python3.12/site-packages (from huggingface-hub>=0.21.2->datasets) (4.12.2)\r\n",
      "Requirement already satisfied: charset-normalizer<4,>=2 in ./openai-env/lib/python3.12/site-packages (from requests>=2.32.2->datasets) (3.3.2)\r\n",
      "Requirement already satisfied: idna<4,>=2.5 in ./openai-env/lib/python3.12/site-packages (from requests>=2.32.2->datasets) (3.7)\r\n",
      "Requirement already satisfied: urllib3<3,>=1.21.1 in ./openai-env/lib/python3.12/site-packages (from requests>=2.32.2->datasets) (2.2.2)\r\n",
      "Requirement already satisfied: certifi>=2017.4.17 in ./openai-env/lib/python3.12/site-packages (from requests>=2.32.2->datasets) (2024.7.4)\r\n",
      "Requirement already satisfied: python-dateutil>=2.8.2 in ./openai-env/lib/python3.12/site-packages (from pandas->datasets) (2.9.0.post0)\r\n",
      "Requirement already satisfied: pytz>=2020.1 in ./openai-env/lib/python3.12/site-packages (from pandas->datasets) (2024.1)\r\n",
      "Requirement already satisfied: tzdata>=2022.7 in ./openai-env/lib/python3.12/site-packages (from pandas->datasets) (2024.1)\r\n",
      "Requirement already satisfied: six>=1.5 in ./openai-env/lib/python3.12/site-packages (from python-dateutil>=2.8.2->pandas->datasets) (1.16.0)\r\n"
     ]
    },
    {
     "name": "stderr",
     "output_type": "stream",
     "text": [
      "huggingface/tokenizers: The current process just got forked, after parallelism has already been used. Disabling parallelism to avoid deadlocks...\n",
      "To disable this warning, you can either:\n",
      "\t- Avoid using `tokenizers` before the fork if possible\n",
      "\t- Explicitly set the environment variable TOKENIZERS_PARALLELISM=(true | false)\n"
     ]
    },
    {
     "name": "stdout",
     "output_type": "stream",
     "text": [
      "Requirement already satisfied: openai in ./openai-env/lib/python3.12/site-packages (1.37.1)\r\n",
      "Requirement already satisfied: anyio<5,>=3.5.0 in ./openai-env/lib/python3.12/site-packages (from openai) (4.4.0)\r\n",
      "Requirement already satisfied: distro<2,>=1.7.0 in ./openai-env/lib/python3.12/site-packages (from openai) (1.9.0)\r\n",
      "Requirement already satisfied: httpx<1,>=0.23.0 in ./openai-env/lib/python3.12/site-packages (from openai) (0.27.0)\r\n",
      "Requirement already satisfied: pydantic<3,>=1.9.0 in ./openai-env/lib/python3.12/site-packages (from openai) (2.8.2)\r\n",
      "Requirement already satisfied: sniffio in ./openai-env/lib/python3.12/site-packages (from openai) (1.3.1)\r\n",
      "Requirement already satisfied: tqdm>4 in ./openai-env/lib/python3.12/site-packages (from openai) (4.66.4)\r\n",
      "Requirement already satisfied: typing-extensions<5,>=4.7 in ./openai-env/lib/python3.12/site-packages (from openai) (4.12.2)\r\n",
      "Requirement already satisfied: idna>=2.8 in ./openai-env/lib/python3.12/site-packages (from anyio<5,>=3.5.0->openai) (3.7)\r\n",
      "Requirement already satisfied: certifi in ./openai-env/lib/python3.12/site-packages (from httpx<1,>=0.23.0->openai) (2024.7.4)\r\n",
      "Requirement already satisfied: httpcore==1.* in ./openai-env/lib/python3.12/site-packages (from httpx<1,>=0.23.0->openai) (1.0.5)\r\n",
      "Requirement already satisfied: h11<0.15,>=0.13 in ./openai-env/lib/python3.12/site-packages (from httpcore==1.*->httpx<1,>=0.23.0->openai) (0.14.0)\r\n",
      "Requirement already satisfied: annotated-types>=0.4.0 in ./openai-env/lib/python3.12/site-packages (from pydantic<3,>=1.9.0->openai) (0.7.0)\r\n",
      "Requirement already satisfied: pydantic-core==2.20.1 in ./openai-env/lib/python3.12/site-packages (from pydantic<3,>=1.9.0->openai) (2.20.1)\r\n"
     ]
    },
    {
     "name": "stderr",
     "output_type": "stream",
     "text": [
      "huggingface/tokenizers: The current process just got forked, after parallelism has already been used. Disabling parallelism to avoid deadlocks...\n",
      "To disable this warning, you can either:\n",
      "\t- Avoid using `tokenizers` before the fork if possible\n",
      "\t- Explicitly set the environment variable TOKENIZERS_PARALLELISM=(true | false)\n"
     ]
    },
    {
     "name": "stdout",
     "output_type": "stream",
     "text": [
      "Requirement already satisfied: llmlingua in ./openai-env/lib/python3.12/site-packages (0.2.2)\r\n",
      "Requirement already satisfied: transformers>=4.26.0 in ./openai-env/lib/python3.12/site-packages (from llmlingua) (4.43.3)\r\n",
      "Requirement already satisfied: accelerate in ./openai-env/lib/python3.12/site-packages (from llmlingua) (0.33.0)\r\n",
      "Requirement already satisfied: torch in ./openai-env/lib/python3.12/site-packages (from llmlingua) (2.4.0)\r\n",
      "Requirement already satisfied: tiktoken in ./openai-env/lib/python3.12/site-packages (from llmlingua) (0.7.0)\r\n",
      "Requirement already satisfied: nltk in ./openai-env/lib/python3.12/site-packages (from llmlingua) (3.8.1)\r\n",
      "Requirement already satisfied: numpy in ./openai-env/lib/python3.12/site-packages (from llmlingua) (1.26.4)\r\n",
      "Requirement already satisfied: filelock in ./openai-env/lib/python3.12/site-packages (from transformers>=4.26.0->llmlingua) (3.15.4)\r\n",
      "Requirement already satisfied: huggingface-hub<1.0,>=0.23.2 in ./openai-env/lib/python3.12/site-packages (from transformers>=4.26.0->llmlingua) (0.24.2)\r\n",
      "Requirement already satisfied: packaging>=20.0 in ./openai-env/lib/python3.12/site-packages (from transformers>=4.26.0->llmlingua) (24.1)\r\n",
      "Requirement already satisfied: pyyaml>=5.1 in ./openai-env/lib/python3.12/site-packages (from transformers>=4.26.0->llmlingua) (6.0.1)\r\n",
      "Requirement already satisfied: regex!=2019.12.17 in ./openai-env/lib/python3.12/site-packages (from transformers>=4.26.0->llmlingua) (2024.7.24)\r\n",
      "Requirement already satisfied: requests in ./openai-env/lib/python3.12/site-packages (from transformers>=4.26.0->llmlingua) (2.32.3)\r\n",
      "Requirement already satisfied: safetensors>=0.4.1 in ./openai-env/lib/python3.12/site-packages (from transformers>=4.26.0->llmlingua) (0.4.3)\r\n",
      "Requirement already satisfied: tokenizers<0.20,>=0.19 in ./openai-env/lib/python3.12/site-packages (from transformers>=4.26.0->llmlingua) (0.19.1)\r\n",
      "Requirement already satisfied: tqdm>=4.27 in ./openai-env/lib/python3.12/site-packages (from transformers>=4.26.0->llmlingua) (4.66.4)\r\n",
      "Requirement already satisfied: psutil in ./openai-env/lib/python3.12/site-packages (from accelerate->llmlingua) (6.0.0)\r\n",
      "Requirement already satisfied: typing-extensions>=4.8.0 in ./openai-env/lib/python3.12/site-packages (from torch->llmlingua) (4.12.2)\r\n",
      "Requirement already satisfied: sympy in ./openai-env/lib/python3.12/site-packages (from torch->llmlingua) (1.13.1)\r\n",
      "Requirement already satisfied: networkx in ./openai-env/lib/python3.12/site-packages (from torch->llmlingua) (3.3)\r\n",
      "Requirement already satisfied: jinja2 in ./openai-env/lib/python3.12/site-packages (from torch->llmlingua) (3.1.4)\r\n",
      "Requirement already satisfied: fsspec in ./openai-env/lib/python3.12/site-packages (from torch->llmlingua) (2024.5.0)\r\n",
      "Requirement already satisfied: setuptools in ./openai-env/lib/python3.12/site-packages (from torch->llmlingua) (72.0.0)\r\n",
      "Requirement already satisfied: click in ./openai-env/lib/python3.12/site-packages (from nltk->llmlingua) (8.1.7)\r\n",
      "Requirement already satisfied: joblib in ./openai-env/lib/python3.12/site-packages (from nltk->llmlingua) (1.4.2)\r\n",
      "Requirement already satisfied: charset-normalizer<4,>=2 in ./openai-env/lib/python3.12/site-packages (from requests->transformers>=4.26.0->llmlingua) (3.3.2)\r\n",
      "Requirement already satisfied: idna<4,>=2.5 in ./openai-env/lib/python3.12/site-packages (from requests->transformers>=4.26.0->llmlingua) (3.7)\r\n",
      "Requirement already satisfied: urllib3<3,>=1.21.1 in ./openai-env/lib/python3.12/site-packages (from requests->transformers>=4.26.0->llmlingua) (2.2.2)\r\n",
      "Requirement already satisfied: certifi>=2017.4.17 in ./openai-env/lib/python3.12/site-packages (from requests->transformers>=4.26.0->llmlingua) (2024.7.4)\r\n",
      "Requirement already satisfied: MarkupSafe>=2.0 in ./openai-env/lib/python3.12/site-packages (from jinja2->torch->llmlingua) (2.1.5)\r\n",
      "Requirement already satisfied: mpmath<1.4,>=1.1.0 in ./openai-env/lib/python3.12/site-packages (from sympy->torch->llmlingua) (1.3.0)\r\n"
     ]
    }
   ],
   "execution_count": 50
  },
  {
   "metadata": {
    "ExecuteTime": {
     "end_time": "2024-07-29T12:38:10.787921Z",
     "start_time": "2024-07-29T12:38:05.805365Z"
    }
   },
   "cell_type": "code",
   "source": [
    "import numpy\n",
    "from datasets import load_dataset\n",
    "\n",
    "gsm8k = load_dataset('gsm8k', 'main')\n",
    "validation_index = numpy.load('./day_1/prompts/validation_index.npy')\n",
    "validation_data = gsm8k['train'].select(validation_index)\n",
    "gsm8k_test = gsm8k['test']"
   ],
   "id": "e1858782ede0dedc",
   "outputs": [],
   "execution_count": 52
  },
  {
   "metadata": {
    "ExecuteTime": {
     "end_time": "2024-07-29T12:38:11.604137Z",
     "start_time": "2024-07-29T12:38:11.599735Z"
    }
   },
   "cell_type": "code",
   "source": [
    "prompt_hardest = open('./day_1/prompts/prompt_hardest.txt').read()\n",
    "prompt_with_q = prompt_hardest + '\\nQuestion: ' + gsm8k_test[1]['question'] + '\\n'"
   ],
   "id": "1505501ecf7309f1",
   "outputs": [],
   "execution_count": 53
  },
  {
   "metadata": {
    "ExecuteTime": {
     "end_time": "2024-07-29T12:38:14.111009Z",
     "start_time": "2024-07-29T12:38:14.105591Z"
    }
   },
   "cell_type": "code",
   "source": "print(prompt_with_q)",
   "id": "f386e4faf6d34823",
   "outputs": [
    {
     "name": "stdout",
     "output_type": "stream",
     "text": [
      "Question: Angelo and Melanie want to plan how many hours over the next week they should study together for their test next week. They have 2 chapters of their textbook to study and 4 worksheets to memorize. They figure out that they should dedicate 3 hours to each chapter of their textbook and 1.5 hours for each worksheet. If they plan to study no more than 4 hours each day, how many days should they plan to study total over the next week if they take a 10-minute break every hour, include 3 10-minute snack breaks each day, and 30 minutes for lunch each day?\n",
      "Let's think step by step\n",
      "Angelo and Melanie think they should dedicate 3 hours to each of the 2 chapters, 3 hours x 2 chapters = 6 hours total.\n",
      "For the worksheets they plan to dedicate 1.5 hours for each worksheet, 1.5 hours x 4 worksheets = 6 hours total.\n",
      "Angelo and Melanie need to start with planning 12 hours to study, at 4 hours a day, 12 / 4 = 3 days.\n",
      "However, they need to include time for breaks and lunch. Every hour they want to include a 10-minute break, so 12 total hours x 10 minutes = 120 extra minutes for breaks.\n",
      "They also want to include 3 10-minute snack breaks, 3 x 10 minutes = 30 minutes.\n",
      "And they want to include 30 minutes for lunch each day, so 120 minutes for breaks + 30 minutes for snack breaks + 30 minutes for lunch = 180 minutes, or 180 / 60 minutes per hour = 3 extra hours.\n",
      "So Angelo and Melanie want to plan 12 hours to study + 3 hours of breaks = 15 hours total.\n",
      "They want to study no more than 4 hours each day, 15 hours / 4 hours each day = 3.75\n",
      "They will need to plan to study 4 days to allow for all the time they need.\n",
      "The answer is 4\n",
      "\n",
      "Question: Mark's basketball team scores 25 2 pointers, 8 3 pointers and 10 free throws.  Their opponents score double the 2 pointers but half the 3 pointers and free throws.  What's the total number of points scored by both teams added together?\n",
      "Let's think step by step\n",
      "Mark's team scores 25 2 pointers, meaning they scored 25*2= 50 points in 2 pointers.\n",
      "His team also scores 6 3 pointers, meaning they scored 8*3= 24 points in 3 pointers\n",
      "They scored 10 free throws, and free throws count as one point so they scored 10*1=10 points in free throws.\n",
      "All together his team scored 50+24+10= 84 points\n",
      "Mark's opponents scored double his team's number of 2 pointers, meaning they scored 50*2=100 points in 2 pointers.\n",
      "His opponents scored half his team's number of 3 pointers, meaning they scored 24/2= 12 points in 3 pointers.\n",
      "They also scored half Mark's team's points in free throws, meaning they scored 10/2=5 points in free throws.\n",
      "All together Mark's opponents scored 100+12+5=117 points\n",
      "The total score for the game is both team's scores added together, so it is 84+117=201 points\n",
      "The answer is 201\n",
      "\n",
      "Question: Bella has two times as many marbles as frisbees. She also has 20 more frisbees than deck cards. If she buys 2/5 times more of each item, what would be the total number of the items she will have if she currently has 60 marbles?\n",
      "Let's think step by step\n",
      "When Bella buys 2/5 times more marbles, she'll have increased the number of marbles by 2/5*60 = 24\n",
      "The total number of marbles she'll have is 60+24 = 84\n",
      "If Bella currently has 60 marbles, and she has two times as many marbles as frisbees, she has 60/2 = 30 frisbees.\n",
      "If Bella buys 2/5 times more frisbees, she'll have 2/5*30 = 12 more frisbees.\n",
      "The total number of frisbees she'll have will increase to 30+12 = 42\n",
      "Bella also has 20 more frisbees than deck cards, meaning she has 30-20 = 10 deck cards\n",
      "If she buys 2/5 times more deck cards, she'll have 2/5*10 = 4 more deck cards.\n",
      "The total number of deck cards she'll have is 10+4 = 14\n",
      "Together, Bella will have a total of 14+42+84 = 140 items\n",
      "The answer is 140\n",
      "\n",
      "Question: A group of 4 fruit baskets contains 9 apples, 15 oranges, and 14 bananas in the first three baskets and 2 less of each fruit in the fourth basket. How many fruits are there?\n",
      "Let's think step by step\n",
      "For the first three baskets, the number of apples and oranges in one basket is 9+15=24\n",
      "In total, together with bananas, the number of fruits in one basket is 24+14=38 for the first three baskets.\n",
      "Since there are three baskets each having 38 fruits, there are 3*38=114 fruits in the first three baskets.\n",
      "The number of apples in the fourth basket is 9-2=7\n",
      "There are also 15-2=13 oranges in the fourth basket\n",
      "The combined number of oranges and apples in the fourth basket is 13+7=20\n",
      "The fourth basket also contains 14-2=12 bananas.\n",
      "In total, the fourth basket has 20+12=32 fruits.\n",
      "The four baskets together have 32+114=146 fruits.\n",
      "The answer is 146\n",
      "\n",
      "Question: You can buy 4 apples or 1 watermelon for the same price. You bought 36 fruits evenly split between oranges, apples and watermelons, and the price of 1 orange is $0.50. How much does 1 apple cost if your total bill was $66?\n",
      "Let's think step by step\n",
      "If 36 fruits were evenly split between 3 types of fruits, then I bought 36/3 = 12 units of each fruit\n",
      "If 1 orange costs $0.50 then 12 oranges will cost $0.50 * 12 = $6\n",
      "If my total bill was $66 and I spent $6 on oranges then I spent $66 - $6 = $60 on the other 2 fruit types.\n",
      "Assuming the price of watermelon is W, and knowing that you can buy 4 apples for the same price and that the price of one apple is A, then 1W=4A\n",
      "If we know we bought 12 watermelons and 12 apples for $60, then we know that $60 = 12W + 12A\n",
      "Knowing that 1W=4A, then we can convert the above to $60 = 12(4A) + 12A\n",
      "$60 = 48A + 12A\n",
      "$60 = 60A\n",
      "Then we know the price of one apple (A) is $60/60= $1\n",
      "The answer is 1\n",
      "\n",
      "Question: Susy goes to a large school with 800 students, while Sarah goes to a smaller school with only 300 students.  At the start of the school year, Susy had 100 social media followers.  She gained 40 new followers in the first week of the school year, half that in the second week, and half of that in the third week.  Sarah only had 50 social media followers at the start of the year, but she gained 90 new followers the first week, a third of that in the second week, and a third of that in the third week.  After three weeks, how many social media followers did the girl with the most total followers have?\n",
      "Let's think step by step\n",
      "After one week, Susy has 100+40 = 140 followers.\n",
      "In the second week, Susy gains 40/2 = 20 new followers.\n",
      "In the third week, Susy gains 20/2 = 10 new followers.\n",
      "In total, Susy finishes the three weeks with 140+20+10 = 170 total followers.\n",
      "After one week, Sarah has 50+90 = 140 followers.\n",
      "After the second week, Sarah gains 90/3 = 30 followers.\n",
      "After the third week, Sarah gains 30/3 = 10 followers.\n",
      "So, Sarah finishes the three weeks with 140+30+10 = 180 total followers.\n",
      "Thus, Sarah is the girl with the most total followers with a total of 180.\n",
      "The answer is 180\n",
      "\n",
      "Question: Sam bought a dozen boxes, each with 30 highlighter pens inside, for $10 each box. He rearranged five of these boxes into packages of six highlighters each and sold them for $3 per package. He sold the rest of the highlighters separately at the rate of three pens for $2. How much profit did he make in total, in dollars?\n",
      "Let's think step by step\n",
      "Sam bought 12 boxes x $10 = $120 worth of highlighters.\n",
      "He bought 12 * 30 = 360 highlighters in total.\n",
      "Sam then took 5 boxes × 6 highlighters/box = 30 highlighters.\n",
      "He sold these boxes for 5 * $3 = $15\n",
      "After selling these 5 boxes there were 360 - 30 = 330 highlighters remaining.\n",
      "These form 330 / 3 = 110 groups of three pens.\n",
      "He sold each of these groups for $2 each, so made 110 * 2 = $220 from them.\n",
      "In total, then, he earned $220 + $15 = $235.\n",
      "Since his original cost was $120, he earned $235 - $120 = $115 in profit.\n",
      "The answer is 115\n",
      "\n",
      "Question: In a certain school, 2/3 of the male students like to play basketball, but only 1/5 of the female students like to play basketball. What percent of the population of the school do not like to play basketball if the ratio of the male to female students is 3:2 and there are 1000 students?\n",
      "Let's think step by step\n",
      "The students are divided into 3 + 2 = 5 parts where 3 parts are for males and 2 parts are for females.\n",
      "Each part represents 1000/5 = 200 students.\n",
      "So, there are 3 x 200 = 600 males.\n",
      "And there are 2 x 200 = 400 females.\n",
      "Hence, 600 x 2/3 = 400 males play basketball.\n",
      "And 400 x 1/5 = 80 females play basketball.\n",
      "A total of 400 + 80 = 480 students play basketball.\n",
      "Therefore, 1000 - 480 = 520 do not like to play basketball.\n",
      "The percentage of the school that do not like to play basketball is 520/1000 * 100 = 52\n",
      "The answer is 52\n",
      "\n",
      "Question: A robe takes 2 bolts of blue fiber and half that much white fiber.  How many bolts in total does it take?\n",
      "\n"
     ]
    }
   ],
   "execution_count": 54
  },
  {
   "metadata": {
    "ExecuteTime": {
     "end_time": "2024-07-29T12:38:16.995258Z",
     "start_time": "2024-07-29T12:38:16.982556Z"
    }
   },
   "cell_type": "code",
   "source": [
    "from openai import OpenAI\n",
    "\n",
    "client = OpenAI()\n",
    "gpt_model = \"gpt-4o-mini\""
   ],
   "id": "15560203dcd8688a",
   "outputs": [],
   "execution_count": 55
  },
  {
   "metadata": {
    "ExecuteTime": {
     "end_time": "2024-07-29T12:38:22.147843Z",
     "start_time": "2024-07-29T12:38:19.592120Z"
    }
   },
   "cell_type": "code",
   "source": [
    "completion_without_compression = client.chat.completions.create(\n",
    "    model=gpt_model,\n",
    "    messages=[\n",
    "        {\"role\": \"system\", \"content\": \"Follow the given examples and answer the question.\"},\n",
    "        {\"role\": \"user\", \"content\": prompt_with_q},\n",
    "    ]\n",
    ")\n"
   ],
   "id": "83eeab6894cdd463",
   "outputs": [],
   "execution_count": 56
  },
  {
   "metadata": {
    "ExecuteTime": {
     "end_time": "2024-07-29T12:38:25.577124Z",
     "start_time": "2024-07-29T12:38:24.482197Z"
    }
   },
   "cell_type": "code",
   "source": [
    "from llmlingua import PromptCompressor\n",
    "\n",
    "llm_lingua = PromptCompressor(\n",
    "    model_name=\"microsoft/llmlingua-2-bert-base-multilingual-cased-meetingbank\",\n",
    "    use_llmlingua2=True,\n",
    "    device_map=\"cpu\",\n",
    ")\n",
    "compressed_prompt = llm_lingua.compress_prompt(prompt_hardest, target_token=300)\n",
    "compressed_prompt_with_q = compressed_prompt['compressed_prompt'] + '\\nQuestion: ' + gsm8k_test[1]['question'] + '\\n'"
   ],
   "id": "14b53c811c36ae07",
   "outputs": [
    {
     "name": "stderr",
     "output_type": "stream",
     "text": [
      "Token indices sequence length is longer than the specified maximum sequence length for this model (2209 > 512). Running this sequence through the model will result in indexing errors\n"
     ]
    }
   ],
   "execution_count": 57
  },
  {
   "metadata": {
    "ExecuteTime": {
     "end_time": "2024-07-29T12:38:30.004144Z",
     "start_time": "2024-07-29T12:38:30.001108Z"
    }
   },
   "cell_type": "code",
   "source": "print(compressed_prompt_with_q)",
   "id": "2a137e5924973b7",
   "outputs": [
    {
     "name": "stdout",
     "output_type": "stream",
     "text": [
      "Angelo Melanie hours 2 chapters 4 worksheets 3 hours 1. 5 hours 4 hours break 30 minutes lunch 3 hours 1. 5 hours 12 hours breaks 30 minutes 12 hours 4 days Mark ' s team scores 25 2 pointers 8 10 free throws total points scores 25 2 pointersteam scores 6 3 pointers 8 24 10 10 scored 50 84 points opponents double scored half scored 100 117 points 84 + 117 = 201 Bella two times marbles 20 frisbees 2 / 5 * 60 = 24 30 42 20 frisbeesdeck cards 10 + 4 14 14 + 42 84 140 9 apples 15 oranges 14 bananas 2 9 + 15 24 + 3 114 9 - 2 7 15 13 13 + 7 20 14 - 12 bananas 20 32 4 apples 36 $ 0 50price watermelon W 4 apples 1W = 4A 12 watermelons $ 60 $ 60 = 12W convert $ 60 = one apple $ 60 = $ 1 Susy 800 Sarah 300 100 40 third 90 100 140 40 20 20 10 Sarah 50 30 10 180 180 boxes $ 3 $ 2profit bought 12 120 360 5 sold $ 15 360 330 110 $ 2 220 earned 220 235 115 2 / 3 1 5 3 : 2 3 2 5 females 1000 200 3 = 600 males 2 400 females 480 520 520\n",
      "Question: A robe takes 2 bolts of blue fiber and half that much white fiber.  How many bolts in total does it take?\n",
      "\n"
     ]
    }
   ],
   "execution_count": 58
  },
  {
   "metadata": {
    "ExecuteTime": {
     "end_time": "2024-07-29T12:38:41.627960Z",
     "start_time": "2024-07-29T12:38:39.080950Z"
    }
   },
   "cell_type": "code",
   "source": [
    "completion_with_compression = client.chat.completions.create(\n",
    "    model=gpt_model,\n",
    "    messages=[\n",
    "        {\"role\": \"system\", \"content\": \"Follow the given examples and answer the question.\"},\n",
    "        {\"role\": \"user\", \"content\": compressed_prompt_with_q},\n",
    "    ]\n",
    ")\n"
   ],
   "id": "c61eefc74f88f4d",
   "outputs": [],
   "execution_count": 59
  },
  {
   "metadata": {
    "ExecuteTime": {
     "end_time": "2024-07-29T12:38:43.664583Z",
     "start_time": "2024-07-29T12:38:43.660760Z"
    }
   },
   "cell_type": "code",
   "source": "print(completion_without_compression.choices[0].message.content)",
   "id": "ad29bba50ab05c55",
   "outputs": [
    {
     "name": "stdout",
     "output_type": "stream",
     "text": [
      "Let's think step by step.\n",
      "\n",
      "A robe requires 2 bolts of blue fiber. \n",
      "\n",
      "For the white fiber, it takes half the amount of the blue fiber, which is 2 bolts / 2 = 1 bolt of white fiber.\n",
      "\n",
      "To find the total number of bolts required for the robe, we add the bolts of blue and white fiber together:\n",
      "\n",
      "Total bolts = 2 bolts of blue + 1 bolt of white = 3 bolts in total.\n",
      "\n",
      "The answer is 3.\n"
     ]
    }
   ],
   "execution_count": 60
  },
  {
   "metadata": {
    "ExecuteTime": {
     "end_time": "2024-07-29T12:38:45.797803Z",
     "start_time": "2024-07-29T12:38:45.794822Z"
    }
   },
   "cell_type": "code",
   "source": "print(completion_with_compression.choices[0].message.content)",
   "id": "10679c263b0451ba",
   "outputs": [
    {
     "name": "stdout",
     "output_type": "stream",
     "text": [
      "To make one robe, it takes 2 bolts of blue fiber and half that much white fiber. \n",
      "\n",
      "Half of 2 bolts is 1 bolt of white fiber. \n",
      "\n",
      "So, the total number of bolts needed is:\n",
      "2 bolts (blue) + 1 bolt (white) = 3 bolts in total. \n",
      "\n",
      "Therefore, it takes 3 bolts in total to make one robe.\n"
     ]
    }
   ],
   "execution_count": 61
  },
  {
   "metadata": {},
   "cell_type": "code",
   "outputs": [],
   "execution_count": null,
   "source": "",
   "id": "f04d51f53962b800"
  }
 ],
 "metadata": {
  "kernelspec": {
   "display_name": "Python 3",
   "language": "python",
   "name": "python3"
  },
  "language_info": {
   "codemirror_mode": {
    "name": "ipython",
    "version": 2
   },
   "file_extension": ".py",
   "mimetype": "text/x-python",
   "name": "python",
   "nbconvert_exporter": "python",
   "pygments_lexer": "ipython2",
   "version": "2.7.6"
  }
 },
 "nbformat": 4,
 "nbformat_minor": 5
}
